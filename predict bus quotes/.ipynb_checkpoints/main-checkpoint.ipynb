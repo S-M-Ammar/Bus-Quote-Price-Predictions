{
 "cells": [
  {
   "cell_type": "code",
   "execution_count": 1,
   "metadata": {},
   "outputs": [],
   "source": [
    "import numpy as np\n",
    "import pandas as pd\n",
    "import scipy.stats as ss\n",
    "import seaborn as sns\n",
    "from matplotlib import pyplot as plt\n",
    "%matplotlib inline\n",
    "# sns.set(rc={'figure.figsize':(15.7,8.27)})"
   ]
  },
  {
   "cell_type": "code",
   "execution_count": 2,
   "metadata": {},
   "outputs": [],
   "source": [
    "# import numpy as np\n",
    "# import pandas as pd\n",
    "# import scipy.stats as ss\n",
    "# import seaborn as sns\n",
    "\n",
    "# print('Pandas version:', pd.__version__)\n",
    "# # Pandas version: 1.3.0\n",
    "\n",
    "# tips = sns.load_dataset(\"tips\")\n",
    "\n",
    "# tips[\"total_bill_cut\"] = pd.cut(tips[\"total_bill\"],\n",
    "#                                 np.arange(0, 55, 5),\n",
    "#                                 include_lowest=True,\n",
    "#                                 right=False)\n",
    "\n",
    "# def cramers_v(confusion_matrix):\n",
    "#     \"\"\" calculate Cramers V statistic for categorial-categorial association.\n",
    "#         uses correction from Bergsma and Wicher,\n",
    "#         Journal of the Korean Statistical Society 42 (2013): 323-328\n",
    "#     \"\"\"\n",
    "#     chi2 = ss.chi2_contingency(confusion_matrix)[0]\n",
    "#     n = confusion_matrix.sum()\n",
    "#     phi2 = chi2 / n\n",
    "#     r, k = confusion_matrix.shape\n",
    "#     phi2corr = max(0, phi2 - ((k-1)*(r-1))/(n-1))\n",
    "#     rcorr = r - ((r-1)**2)/(n-1)\n",
    "#     kcorr = k - ((k-1)**2)/(n-1)\n",
    "#     return np.sqrt(phi2corr / min((kcorr-1), (rcorr-1)))\n",
    "\n",
    "# confusion_matrix = pd.crosstab(tips[\"day\"], tips[\"time\"])\n",
    "# cramers_v(confusion_matrix.values)\n",
    "# # Out[2]: 0.9386619340722221\n",
    "\n",
    "# confusion_matrix = pd.crosstab(tips[\"total_bill_cut\"], tips[\"time\"])\n",
    "# cramers_v(confusion_matrix.values)\n",
    "# # Out[3]: 0.1649870749498837"
   ]
  },
  {
   "cell_type": "code",
   "execution_count": 3,
   "metadata": {},
   "outputs": [
    {
     "data": {
      "text/html": [
       "<div>\n",
       "<style scoped>\n",
       "    .dataframe tbody tr th:only-of-type {\n",
       "        vertical-align: middle;\n",
       "    }\n",
       "\n",
       "    .dataframe tbody tr th {\n",
       "        vertical-align: top;\n",
       "    }\n",
       "\n",
       "    .dataframe thead th {\n",
       "        text-align: right;\n",
       "    }\n",
       "</style>\n",
       "<table border=\"1\" class=\"dataframe\">\n",
       "  <thead>\n",
       "    <tr style=\"text-align: right;\">\n",
       "      <th></th>\n",
       "      <th>Trip Number</th>\n",
       "      <th>Purpose</th>\n",
       "      <th>Vehicle class</th>\n",
       "      <th>Trip type</th>\n",
       "      <th>Passengers</th>\n",
       "      <th>Date of enquiry</th>\n",
       "      <th>Leg 1 start date</th>\n",
       "      <th>Distance in kms</th>\n",
       "      <th>Travel time minutes</th>\n",
       "      <th>Total time elapsed(hours)</th>\n",
       "      <th>Trip starts before 7 am</th>\n",
       "      <th>Trip ends after 6pm</th>\n",
       "      <th>Supplier id</th>\n",
       "      <th>Supplier Quote(including GST)</th>\n",
       "      <th>Total google distance to the closest depot</th>\n",
       "      <th>Closest depot</th>\n",
       "      <th>Closest city id</th>\n",
       "      <th>Closest city Google distance(km)</th>\n",
       "    </tr>\n",
       "  </thead>\n",
       "  <tbody>\n",
       "    <tr>\n",
       "      <th>0</th>\n",
       "      <td>#090520213</td>\n",
       "      <td>Wedding</td>\n",
       "      <td>Budget</td>\n",
       "      <td>One Way</td>\n",
       "      <td>35</td>\n",
       "      <td>05/09/2021</td>\n",
       "      <td>12/03/2022</td>\n",
       "      <td>23.183</td>\n",
       "      <td>21</td>\n",
       "      <td>0.35</td>\n",
       "      <td>No</td>\n",
       "      <td>Yes</td>\n",
       "      <td>317</td>\n",
       "      <td>431.25</td>\n",
       "      <td>29</td>\n",
       "      <td>694</td>\n",
       "      <td>426</td>\n",
       "      <td>24.3</td>\n",
       "    </tr>\n",
       "    <tr>\n",
       "      <th>1</th>\n",
       "      <td>#100120215</td>\n",
       "      <td>Other</td>\n",
       "      <td>Budget</td>\n",
       "      <td>Return</td>\n",
       "      <td>25</td>\n",
       "      <td>01/10/2021</td>\n",
       "      <td>23/10/2021</td>\n",
       "      <td>32.554</td>\n",
       "      <td>36</td>\n",
       "      <td>5.37</td>\n",
       "      <td>No</td>\n",
       "      <td>Yes</td>\n",
       "      <td>310</td>\n",
       "      <td>517.50</td>\n",
       "      <td>4</td>\n",
       "      <td>696</td>\n",
       "      <td>436</td>\n",
       "      <td>3.0</td>\n",
       "    </tr>\n",
       "    <tr>\n",
       "      <th>2</th>\n",
       "      <td>#092120217</td>\n",
       "      <td>Hen or Stag Do</td>\n",
       "      <td>Budget</td>\n",
       "      <td>Return</td>\n",
       "      <td>15</td>\n",
       "      <td>21/09/2021</td>\n",
       "      <td>30/10/2021</td>\n",
       "      <td>110.210</td>\n",
       "      <td>84</td>\n",
       "      <td>7.45</td>\n",
       "      <td>No</td>\n",
       "      <td>Yes</td>\n",
       "      <td>223</td>\n",
       "      <td>889.04</td>\n",
       "      <td>8</td>\n",
       "      <td>747</td>\n",
       "      <td>437</td>\n",
       "      <td>0.5</td>\n",
       "    </tr>\n",
       "    <tr>\n",
       "      <th>3</th>\n",
       "      <td>#070820216</td>\n",
       "      <td>Sports Game</td>\n",
       "      <td>Standard</td>\n",
       "      <td>Return</td>\n",
       "      <td>70</td>\n",
       "      <td>08/07/2021</td>\n",
       "      <td>24/10/2021</td>\n",
       "      <td>15.513</td>\n",
       "      <td>25</td>\n",
       "      <td>7.72</td>\n",
       "      <td>No</td>\n",
       "      <td>No</td>\n",
       "      <td>325</td>\n",
       "      <td>1518.00</td>\n",
       "      <td>10</td>\n",
       "      <td>742</td>\n",
       "      <td>455</td>\n",
       "      <td>4.5</td>\n",
       "    </tr>\n",
       "    <tr>\n",
       "      <th>4</th>\n",
       "      <td>#092120211</td>\n",
       "      <td>Corporate Event</td>\n",
       "      <td>Budget</td>\n",
       "      <td>Return</td>\n",
       "      <td>53</td>\n",
       "      <td>21/09/2021</td>\n",
       "      <td>17/12/2021</td>\n",
       "      <td>14.301</td>\n",
       "      <td>26</td>\n",
       "      <td>3.18</td>\n",
       "      <td>No</td>\n",
       "      <td>No</td>\n",
       "      <td>364</td>\n",
       "      <td>490.00</td>\n",
       "      <td>42</td>\n",
       "      <td>875</td>\n",
       "      <td>432</td>\n",
       "      <td>2.4</td>\n",
       "    </tr>\n",
       "    <tr>\n",
       "      <th>...</th>\n",
       "      <td>...</td>\n",
       "      <td>...</td>\n",
       "      <td>...</td>\n",
       "      <td>...</td>\n",
       "      <td>...</td>\n",
       "      <td>...</td>\n",
       "      <td>...</td>\n",
       "      <td>...</td>\n",
       "      <td>...</td>\n",
       "      <td>...</td>\n",
       "      <td>...</td>\n",
       "      <td>...</td>\n",
       "      <td>...</td>\n",
       "      <td>...</td>\n",
       "      <td>...</td>\n",
       "      <td>...</td>\n",
       "      <td>...</td>\n",
       "      <td>...</td>\n",
       "    </tr>\n",
       "    <tr>\n",
       "      <th>448</th>\n",
       "      <td>#112620203</td>\n",
       "      <td>Christmas Party</td>\n",
       "      <td>Standard</td>\n",
       "      <td>Return</td>\n",
       "      <td>30</td>\n",
       "      <td>26/11/2020</td>\n",
       "      <td>18/12/2020</td>\n",
       "      <td>20.852</td>\n",
       "      <td>23</td>\n",
       "      <td>7.43</td>\n",
       "      <td>No</td>\n",
       "      <td>Yes</td>\n",
       "      <td>315</td>\n",
       "      <td>530.00</td>\n",
       "      <td>4</td>\n",
       "      <td>722</td>\n",
       "      <td>438</td>\n",
       "      <td>1.1</td>\n",
       "    </tr>\n",
       "    <tr>\n",
       "      <th>449</th>\n",
       "      <td>#112520204</td>\n",
       "      <td>Other</td>\n",
       "      <td>Budget</td>\n",
       "      <td>Return</td>\n",
       "      <td>25</td>\n",
       "      <td>25/11/2020</td>\n",
       "      <td>27/11/2020</td>\n",
       "      <td>19.468</td>\n",
       "      <td>28</td>\n",
       "      <td>2.98</td>\n",
       "      <td>No</td>\n",
       "      <td>No</td>\n",
       "      <td>322</td>\n",
       "      <td>224.75</td>\n",
       "      <td>6</td>\n",
       "      <td>737</td>\n",
       "      <td>449</td>\n",
       "      <td>2.9</td>\n",
       "    </tr>\n",
       "    <tr>\n",
       "      <th>450</th>\n",
       "      <td>#112520204</td>\n",
       "      <td>Other</td>\n",
       "      <td>Budget</td>\n",
       "      <td>Return</td>\n",
       "      <td>25</td>\n",
       "      <td>25/11/2020</td>\n",
       "      <td>27/11/2020</td>\n",
       "      <td>19.468</td>\n",
       "      <td>28</td>\n",
       "      <td>2.98</td>\n",
       "      <td>No</td>\n",
       "      <td>No</td>\n",
       "      <td>311</td>\n",
       "      <td>500.00</td>\n",
       "      <td>4</td>\n",
       "      <td>703</td>\n",
       "      <td>449</td>\n",
       "      <td>2.9</td>\n",
       "    </tr>\n",
       "    <tr>\n",
       "      <th>451</th>\n",
       "      <td>#112220202</td>\n",
       "      <td>Club or Society</td>\n",
       "      <td>Standard</td>\n",
       "      <td>Return</td>\n",
       "      <td>45</td>\n",
       "      <td>22/11/2020</td>\n",
       "      <td>12/12/2020</td>\n",
       "      <td>115.055</td>\n",
       "      <td>103</td>\n",
       "      <td>9.85</td>\n",
       "      <td>No</td>\n",
       "      <td>Yes</td>\n",
       "      <td>192</td>\n",
       "      <td>985.00</td>\n",
       "      <td>88</td>\n",
       "      <td>772</td>\n",
       "      <td>426</td>\n",
       "      <td>11.9</td>\n",
       "    </tr>\n",
       "    <tr>\n",
       "      <th>452</th>\n",
       "      <td>#111520201</td>\n",
       "      <td>Family Trip</td>\n",
       "      <td>Budget</td>\n",
       "      <td>Return</td>\n",
       "      <td>50</td>\n",
       "      <td>15/11/2020</td>\n",
       "      <td>19/12/2020</td>\n",
       "      <td>164.195</td>\n",
       "      <td>143</td>\n",
       "      <td>12.18</td>\n",
       "      <td>No</td>\n",
       "      <td>Yes</td>\n",
       "      <td>211</td>\n",
       "      <td>900.00</td>\n",
       "      <td>8</td>\n",
       "      <td>773</td>\n",
       "      <td>426</td>\n",
       "      <td>22.3</td>\n",
       "    </tr>\n",
       "  </tbody>\n",
       "</table>\n",
       "<p>453 rows × 18 columns</p>\n",
       "</div>"
      ],
      "text/plain": [
       "    Trip Number          Purpose Vehicle class Trip type  Passengers  \\\n",
       "0    #090520213          Wedding        Budget   One Way          35   \n",
       "1    #100120215            Other        Budget    Return          25   \n",
       "2    #092120217   Hen or Stag Do        Budget    Return          15   \n",
       "3    #070820216      Sports Game      Standard    Return          70   \n",
       "4    #092120211  Corporate Event        Budget    Return          53   \n",
       "..          ...              ...           ...       ...         ...   \n",
       "448  #112620203  Christmas Party      Standard    Return          30   \n",
       "449  #112520204            Other        Budget    Return          25   \n",
       "450  #112520204            Other        Budget    Return          25   \n",
       "451  #112220202  Club or Society      Standard    Return          45   \n",
       "452  #111520201      Family Trip        Budget    Return          50   \n",
       "\n",
       "    Date of enquiry Leg 1 start date  Distance in kms  Travel time minutes  \\\n",
       "0        05/09/2021       12/03/2022           23.183                   21   \n",
       "1        01/10/2021       23/10/2021           32.554                   36   \n",
       "2        21/09/2021       30/10/2021          110.210                   84   \n",
       "3        08/07/2021       24/10/2021           15.513                   25   \n",
       "4        21/09/2021       17/12/2021           14.301                   26   \n",
       "..              ...              ...              ...                  ...   \n",
       "448      26/11/2020       18/12/2020           20.852                   23   \n",
       "449      25/11/2020       27/11/2020           19.468                   28   \n",
       "450      25/11/2020       27/11/2020           19.468                   28   \n",
       "451      22/11/2020       12/12/2020          115.055                  103   \n",
       "452      15/11/2020       19/12/2020          164.195                  143   \n",
       "\n",
       "     Total time elapsed(hours) Trip starts before 7 am Trip ends after 6pm  \\\n",
       "0                         0.35                      No                 Yes   \n",
       "1                         5.37                      No                 Yes   \n",
       "2                         7.45                      No                 Yes   \n",
       "3                         7.72                      No                  No   \n",
       "4                         3.18                      No                  No   \n",
       "..                         ...                     ...                 ...   \n",
       "448                       7.43                      No                 Yes   \n",
       "449                       2.98                      No                  No   \n",
       "450                       2.98                      No                  No   \n",
       "451                       9.85                      No                 Yes   \n",
       "452                      12.18                      No                 Yes   \n",
       "\n",
       "     Supplier id  Supplier Quote(including GST)  \\\n",
       "0            317                         431.25   \n",
       "1            310                         517.50   \n",
       "2            223                         889.04   \n",
       "3            325                        1518.00   \n",
       "4            364                         490.00   \n",
       "..           ...                            ...   \n",
       "448          315                         530.00   \n",
       "449          322                         224.75   \n",
       "450          311                         500.00   \n",
       "451          192                         985.00   \n",
       "452          211                         900.00   \n",
       "\n",
       "     Total google distance to the closest depot  Closest depot  \\\n",
       "0                                            29            694   \n",
       "1                                             4            696   \n",
       "2                                             8            747   \n",
       "3                                            10            742   \n",
       "4                                            42            875   \n",
       "..                                          ...            ...   \n",
       "448                                           4            722   \n",
       "449                                           6            737   \n",
       "450                                           4            703   \n",
       "451                                          88            772   \n",
       "452                                           8            773   \n",
       "\n",
       "     Closest city id  Closest city Google distance(km)  \n",
       "0                426                              24.3  \n",
       "1                436                               3.0  \n",
       "2                437                               0.5  \n",
       "3                455                               4.5  \n",
       "4                432                               2.4  \n",
       "..               ...                               ...  \n",
       "448              438                               1.1  \n",
       "449              449                               2.9  \n",
       "450              449                               2.9  \n",
       "451              426                              11.9  \n",
       "452              426                              22.3  \n",
       "\n",
       "[453 rows x 18 columns]"
      ]
     },
     "execution_count": 3,
     "metadata": {},
     "output_type": "execute_result"
    }
   ],
   "source": [
    "df =  pd.read_csv(\"./Bus Charter Pricing Data for Ammar (with city data) 15_10_21 (1).csv\")\n",
    "df"
   ]
  },
  {
   "cell_type": "code",
   "execution_count": 4,
   "metadata": {},
   "outputs": [
    {
     "data": {
      "text/html": [
       "<div>\n",
       "<style scoped>\n",
       "    .dataframe tbody tr th:only-of-type {\n",
       "        vertical-align: middle;\n",
       "    }\n",
       "\n",
       "    .dataframe tbody tr th {\n",
       "        vertical-align: top;\n",
       "    }\n",
       "\n",
       "    .dataframe thead th {\n",
       "        text-align: right;\n",
       "    }\n",
       "</style>\n",
       "<table border=\"1\" class=\"dataframe\">\n",
       "  <thead>\n",
       "    <tr style=\"text-align: right;\">\n",
       "      <th></th>\n",
       "      <th>Vehicle class</th>\n",
       "      <th>Trip type</th>\n",
       "      <th>Passengers</th>\n",
       "      <th>Distance in kms</th>\n",
       "      <th>Travel time minutes</th>\n",
       "      <th>Total time elapsed(hours)</th>\n",
       "      <th>Trip starts before 7 am</th>\n",
       "      <th>Trip ends after 6pm</th>\n",
       "      <th>Supplier Quote(including GST)</th>\n",
       "      <th>Total google distance to the closest depot</th>\n",
       "    </tr>\n",
       "  </thead>\n",
       "  <tbody>\n",
       "    <tr>\n",
       "      <th>0</th>\n",
       "      <td>Budget</td>\n",
       "      <td>One Way</td>\n",
       "      <td>35</td>\n",
       "      <td>23.183</td>\n",
       "      <td>21</td>\n",
       "      <td>0.35</td>\n",
       "      <td>No</td>\n",
       "      <td>Yes</td>\n",
       "      <td>431.25</td>\n",
       "      <td>29</td>\n",
       "    </tr>\n",
       "    <tr>\n",
       "      <th>1</th>\n",
       "      <td>Budget</td>\n",
       "      <td>Return</td>\n",
       "      <td>25</td>\n",
       "      <td>32.554</td>\n",
       "      <td>36</td>\n",
       "      <td>5.37</td>\n",
       "      <td>No</td>\n",
       "      <td>Yes</td>\n",
       "      <td>517.50</td>\n",
       "      <td>4</td>\n",
       "    </tr>\n",
       "    <tr>\n",
       "      <th>2</th>\n",
       "      <td>Budget</td>\n",
       "      <td>Return</td>\n",
       "      <td>15</td>\n",
       "      <td>110.210</td>\n",
       "      <td>84</td>\n",
       "      <td>7.45</td>\n",
       "      <td>No</td>\n",
       "      <td>Yes</td>\n",
       "      <td>889.04</td>\n",
       "      <td>8</td>\n",
       "    </tr>\n",
       "    <tr>\n",
       "      <th>3</th>\n",
       "      <td>Standard</td>\n",
       "      <td>Return</td>\n",
       "      <td>70</td>\n",
       "      <td>15.513</td>\n",
       "      <td>25</td>\n",
       "      <td>7.72</td>\n",
       "      <td>No</td>\n",
       "      <td>No</td>\n",
       "      <td>1518.00</td>\n",
       "      <td>10</td>\n",
       "    </tr>\n",
       "    <tr>\n",
       "      <th>4</th>\n",
       "      <td>Budget</td>\n",
       "      <td>Return</td>\n",
       "      <td>53</td>\n",
       "      <td>14.301</td>\n",
       "      <td>26</td>\n",
       "      <td>3.18</td>\n",
       "      <td>No</td>\n",
       "      <td>No</td>\n",
       "      <td>490.00</td>\n",
       "      <td>42</td>\n",
       "    </tr>\n",
       "    <tr>\n",
       "      <th>...</th>\n",
       "      <td>...</td>\n",
       "      <td>...</td>\n",
       "      <td>...</td>\n",
       "      <td>...</td>\n",
       "      <td>...</td>\n",
       "      <td>...</td>\n",
       "      <td>...</td>\n",
       "      <td>...</td>\n",
       "      <td>...</td>\n",
       "      <td>...</td>\n",
       "    </tr>\n",
       "    <tr>\n",
       "      <th>448</th>\n",
       "      <td>Standard</td>\n",
       "      <td>Return</td>\n",
       "      <td>30</td>\n",
       "      <td>20.852</td>\n",
       "      <td>23</td>\n",
       "      <td>7.43</td>\n",
       "      <td>No</td>\n",
       "      <td>Yes</td>\n",
       "      <td>530.00</td>\n",
       "      <td>4</td>\n",
       "    </tr>\n",
       "    <tr>\n",
       "      <th>449</th>\n",
       "      <td>Budget</td>\n",
       "      <td>Return</td>\n",
       "      <td>25</td>\n",
       "      <td>19.468</td>\n",
       "      <td>28</td>\n",
       "      <td>2.98</td>\n",
       "      <td>No</td>\n",
       "      <td>No</td>\n",
       "      <td>224.75</td>\n",
       "      <td>6</td>\n",
       "    </tr>\n",
       "    <tr>\n",
       "      <th>450</th>\n",
       "      <td>Budget</td>\n",
       "      <td>Return</td>\n",
       "      <td>25</td>\n",
       "      <td>19.468</td>\n",
       "      <td>28</td>\n",
       "      <td>2.98</td>\n",
       "      <td>No</td>\n",
       "      <td>No</td>\n",
       "      <td>500.00</td>\n",
       "      <td>4</td>\n",
       "    </tr>\n",
       "    <tr>\n",
       "      <th>451</th>\n",
       "      <td>Standard</td>\n",
       "      <td>Return</td>\n",
       "      <td>45</td>\n",
       "      <td>115.055</td>\n",
       "      <td>103</td>\n",
       "      <td>9.85</td>\n",
       "      <td>No</td>\n",
       "      <td>Yes</td>\n",
       "      <td>985.00</td>\n",
       "      <td>88</td>\n",
       "    </tr>\n",
       "    <tr>\n",
       "      <th>452</th>\n",
       "      <td>Budget</td>\n",
       "      <td>Return</td>\n",
       "      <td>50</td>\n",
       "      <td>164.195</td>\n",
       "      <td>143</td>\n",
       "      <td>12.18</td>\n",
       "      <td>No</td>\n",
       "      <td>Yes</td>\n",
       "      <td>900.00</td>\n",
       "      <td>8</td>\n",
       "    </tr>\n",
       "  </tbody>\n",
       "</table>\n",
       "<p>453 rows × 10 columns</p>\n",
       "</div>"
      ],
      "text/plain": [
       "    Vehicle class Trip type  Passengers  Distance in kms  Travel time minutes  \\\n",
       "0          Budget   One Way          35           23.183                   21   \n",
       "1          Budget    Return          25           32.554                   36   \n",
       "2          Budget    Return          15          110.210                   84   \n",
       "3        Standard    Return          70           15.513                   25   \n",
       "4          Budget    Return          53           14.301                   26   \n",
       "..            ...       ...         ...              ...                  ...   \n",
       "448      Standard    Return          30           20.852                   23   \n",
       "449        Budget    Return          25           19.468                   28   \n",
       "450        Budget    Return          25           19.468                   28   \n",
       "451      Standard    Return          45          115.055                  103   \n",
       "452        Budget    Return          50          164.195                  143   \n",
       "\n",
       "     Total time elapsed(hours) Trip starts before 7 am Trip ends after 6pm  \\\n",
       "0                         0.35                      No                 Yes   \n",
       "1                         5.37                      No                 Yes   \n",
       "2                         7.45                      No                 Yes   \n",
       "3                         7.72                      No                  No   \n",
       "4                         3.18                      No                  No   \n",
       "..                         ...                     ...                 ...   \n",
       "448                       7.43                      No                 Yes   \n",
       "449                       2.98                      No                  No   \n",
       "450                       2.98                      No                  No   \n",
       "451                       9.85                      No                 Yes   \n",
       "452                      12.18                      No                 Yes   \n",
       "\n",
       "     Supplier Quote(including GST)  Total google distance to the closest depot  \n",
       "0                           431.25                                          29  \n",
       "1                           517.50                                           4  \n",
       "2                           889.04                                           8  \n",
       "3                          1518.00                                          10  \n",
       "4                           490.00                                          42  \n",
       "..                             ...                                         ...  \n",
       "448                         530.00                                           4  \n",
       "449                         224.75                                           6  \n",
       "450                         500.00                                           4  \n",
       "451                         985.00                                          88  \n",
       "452                         900.00                                           8  \n",
       "\n",
       "[453 rows x 10 columns]"
      ]
     },
     "execution_count": 4,
     "metadata": {},
     "output_type": "execute_result"
    }
   ],
   "source": [
    "df.drop(labels=['Trip Number','Leg 1 start date','Supplier id','Date of enquiry','Closest city Google distance(km)','Closest city id','Closest depot'],axis=1,inplace=True)\n",
    "df"
   ]
  },
  {
   "cell_type": "code",
   "execution_count": 5,
   "metadata": {},
   "outputs": [
    {
     "data": {
      "text/plain": [
       "array(['One Way', 'Return'], dtype=object)"
      ]
     },
     "execution_count": 5,
     "metadata": {},
     "output_type": "execute_result"
    }
   ],
   "source": [
    "df['Trip type'].unique()"
   ]
  },
  {
   "cell_type": "code",
   "execution_count": 6,
   "metadata": {},
   "outputs": [
    {
     "data": {
      "text/plain": [
       "array(['No', 'Yes'], dtype=object)"
      ]
     },
     "execution_count": 6,
     "metadata": {},
     "output_type": "execute_result"
    }
   ],
   "source": [
    "df['Trip starts before 7 am'].unique()"
   ]
  },
  {
   "cell_type": "code",
   "execution_count": 7,
   "metadata": {},
   "outputs": [
    {
     "data": {
      "text/plain": [
       "array(['Yes', 'No'], dtype=object)"
      ]
     },
     "execution_count": 7,
     "metadata": {},
     "output_type": "execute_result"
    }
   ],
   "source": [
    "df['Trip ends after 6pm'].unique()"
   ]
  },
  {
   "cell_type": "code",
   "execution_count": 8,
   "metadata": {},
   "outputs": [
    {
     "data": {
      "text/plain": [
       "<matplotlib.axes._subplots.AxesSubplot at 0x1a967cde9e8>"
      ]
     },
     "execution_count": 8,
     "metadata": {},
     "output_type": "execute_result"
    },
    {
     "data": {
      "image/png": "[encoded data removed]",
      "text/plain": [
       "<Figure size 432x288 with 1 Axes>"
      ]
     },
     "metadata": {
      "needs_background": "light"
     },
     "output_type": "display_data"
    }
   ],
   "source": [
    "sns.barplot(x=df['Vehicle class'],y=df['Supplier Quote(including GST)'])"
   ]
  },
  {
   "cell_type": "code",
   "execution_count": 9,
   "metadata": {
    "scrolled": true
   },
   "outputs": [
    {
     "ename": "KeyError",
     "evalue": "'Purpose'",
     "output_type": "error",
     "traceback": [
      "\u001b[0;31m---------------------------------------------------------------------------\u001b[0m",
      "\u001b[0;31mKeyError\u001b[0m                                  Traceback (most recent call last)",
      "\u001b[0;32mC:\\Users\\S.M.Ammar\\AppData\\Local\\Programs\\Python\\Python37\\lib\\site-packages\\pandas\\core\\indexes\\base.py\u001b[0m in \u001b[0;36mget_loc\u001b[0;34m(self, key, method, tolerance)\u001b[0m\n\u001b[1;32m   2645\u001b[0m             \u001b[0;32mtry\u001b[0m\u001b[0;34m:\u001b[0m\u001b[0;34m\u001b[0m\u001b[0;34m\u001b[0m\u001b[0m\n\u001b[0;32m-> 2646\u001b[0;31m                 \u001b[0;32mreturn\u001b[0m \u001b[0mself\u001b[0m\u001b[0;34m.\u001b[0m\u001b[0m_engine\u001b[0m\u001b[0;34m.\u001b[0m\u001b[0mget_loc\u001b[0m\u001b[0;34m(\u001b[0m\u001b[0mkey\u001b[0m\u001b[0;34m)\u001b[0m\u001b[0;34m\u001b[0m\u001b[0;34m\u001b[0m\u001b[0m\n\u001b[0m\u001b[1;32m   2647\u001b[0m             \u001b[0;32mexcept\u001b[0m \u001b[0mKeyError\u001b[0m\u001b[0;34m:\u001b[0m\u001b[0;34m\u001b[0m\u001b[0;34m\u001b[0m\u001b[0m\n",
      "\u001b[0;32mpandas\\_libs\\index.pyx\u001b[0m in \u001b[0;36mpandas._libs.index.IndexEngine.get_loc\u001b[0;34m()\u001b[0m\n",
      "\u001b[0;32mpandas\\_libs\\index.pyx\u001b[0m in \u001b[0;36mpandas._libs.index.IndexEngine.get_loc\u001b[0;34m()\u001b[0m\n",
      "\u001b[0;32mpandas\\_libs\\hashtable_class_helper.pxi\u001b[0m in \u001b[0;36mpandas._libs.hashtable.PyObjectHashTable.get_item\u001b[0;34m()\u001b[0m\n",
      "\u001b[0;32mpandas\\_libs\\hashtable_class_helper.pxi\u001b[0m in \u001b[0;36mpandas._libs.hashtable.PyObjectHashTable.get_item\u001b[0;34m()\u001b[0m\n",
      "\u001b[0;31mKeyError\u001b[0m: 'Purpose'",
      "\nDuring handling of the above exception, another exception occurred:\n",
      "\u001b[0;31mKeyError\u001b[0m                                  Traceback (most recent call last)",
      "\u001b[0;32m<ipython-input-9-96e2607563f5>\u001b[0m in \u001b[0;36m<module>\u001b[0;34m()\u001b[0m\n\u001b[1;32m      1\u001b[0m \u001b[0msns\u001b[0m\u001b[0;34m.\u001b[0m\u001b[0mset\u001b[0m\u001b[0;34m(\u001b[0m\u001b[0mrc\u001b[0m\u001b[0;34m=\u001b[0m\u001b[0;34m{\u001b[0m\u001b[0;34m'figure.figsize'\u001b[0m\u001b[0;34m:\u001b[0m\u001b[0;34m(\u001b[0m\u001b[0;36m25\u001b[0m\u001b[0;34m,\u001b[0m\u001b[0;36m8.27\u001b[0m\u001b[0;34m)\u001b[0m\u001b[0;34m}\u001b[0m\u001b[0;34m)\u001b[0m\u001b[0;34m\u001b[0m\u001b[0;34m\u001b[0m\u001b[0m\n\u001b[0;32m----> 2\u001b[0;31m \u001b[0msns\u001b[0m\u001b[0;34m.\u001b[0m\u001b[0mbarplot\u001b[0m\u001b[0;34m(\u001b[0m\u001b[0mx\u001b[0m\u001b[0;34m=\u001b[0m\u001b[0mdf\u001b[0m\u001b[0;34m[\u001b[0m\u001b[0;34m'Purpose'\u001b[0m\u001b[0;34m]\u001b[0m\u001b[0;34m,\u001b[0m\u001b[0my\u001b[0m\u001b[0;34m=\u001b[0m\u001b[0mdf\u001b[0m\u001b[0;34m[\u001b[0m\u001b[0;34m'Supplier Quote(including GST)'\u001b[0m\u001b[0;34m]\u001b[0m\u001b[0;34m)\u001b[0m\u001b[0;34m\u001b[0m\u001b[0;34m\u001b[0m\u001b[0m\n\u001b[0m",
      "\u001b[0;32mC:\\Users\\S.M.Ammar\\AppData\\Local\\Programs\\Python\\Python37\\lib\\site-packages\\pandas\\core\\frame.py\u001b[0m in \u001b[0;36m__getitem__\u001b[0;34m(self, key)\u001b[0m\n\u001b[1;32m   2798\u001b[0m             \u001b[0;32mif\u001b[0m \u001b[0mself\u001b[0m\u001b[0;34m.\u001b[0m\u001b[0mcolumns\u001b[0m\u001b[0;34m.\u001b[0m\u001b[0mnlevels\u001b[0m \u001b[0;34m>\u001b[0m \u001b[0;36m1\u001b[0m\u001b[0;34m:\u001b[0m\u001b[0;34m\u001b[0m\u001b[0;34m\u001b[0m\u001b[0m\n\u001b[1;32m   2799\u001b[0m                 \u001b[0;32mreturn\u001b[0m \u001b[0mself\u001b[0m\u001b[0;34m.\u001b[0m\u001b[0m_getitem_multilevel\u001b[0m\u001b[0;34m(\u001b[0m\u001b[0mkey\u001b[0m\u001b[0;34m)\u001b[0m\u001b[0;34m\u001b[0m\u001b[0;34m\u001b[0m\u001b[0m\n\u001b[0;32m-> 2800\u001b[0;31m             \u001b[0mindexer\u001b[0m \u001b[0;34m=\u001b[0m \u001b[0mself\u001b[0m\u001b[0;34m.\u001b[0m\u001b[0mcolumns\u001b[0m\u001b[0;34m.\u001b[0m\u001b[0mget_loc\u001b[0m\u001b[0;34m(\u001b[0m\u001b[0mkey\u001b[0m\u001b[0;34m)\u001b[0m\u001b[0;34m\u001b[0m\u001b[0;34m\u001b[0m\u001b[0m\n\u001b[0m\u001b[1;32m   2801\u001b[0m             \u001b[0;32mif\u001b[0m \u001b[0mis_integer\u001b[0m\u001b[0;34m(\u001b[0m\u001b[0mindexer\u001b[0m\u001b[0;34m)\u001b[0m\u001b[0;34m:\u001b[0m\u001b[0;34m\u001b[0m\u001b[0;34m\u001b[0m\u001b[0m\n\u001b[1;32m   2802\u001b[0m                 \u001b[0mindexer\u001b[0m \u001b[0;34m=\u001b[0m \u001b[0;34m[\u001b[0m\u001b[0mindexer\u001b[0m\u001b[0;34m]\u001b[0m\u001b[0;34m\u001b[0m\u001b[0;34m\u001b[0m\u001b[0m\n",
      "\u001b[0;32mC:\\Users\\S.M.Ammar\\AppData\\Local\\Programs\\Python\\Python37\\lib\\site-packages\\pandas\\core\\indexes\\base.py\u001b[0m in \u001b[0;36mget_loc\u001b[0;34m(self, key, method, tolerance)\u001b[0m\n\u001b[1;32m   2646\u001b[0m                 \u001b[0;32mreturn\u001b[0m \u001b[0mself\u001b[0m\u001b[0;34m.\u001b[0m\u001b[0m_engine\u001b[0m\u001b[0;34m.\u001b[0m\u001b[0mget_loc\u001b[0m\u001b[0;34m(\u001b[0m\u001b[0mkey\u001b[0m\u001b[0;34m)\u001b[0m\u001b[0;34m\u001b[0m\u001b[0;34m\u001b[0m\u001b[0m\n\u001b[1;32m   2647\u001b[0m             \u001b[0;32mexcept\u001b[0m \u001b[0mKeyError\u001b[0m\u001b[0;34m:\u001b[0m\u001b[0;34m\u001b[0m\u001b[0;34m\u001b[0m\u001b[0m\n\u001b[0;32m-> 2648\u001b[0;31m                 \u001b[0;32mreturn\u001b[0m \u001b[0mself\u001b[0m\u001b[0;34m.\u001b[0m\u001b[0m_engine\u001b[0m\u001b[0;34m.\u001b[0m\u001b[0mget_loc\u001b[0m\u001b[0;34m(\u001b[0m\u001b[0mself\u001b[0m\u001b[0;34m.\u001b[0m\u001b[0m_maybe_cast_indexer\u001b[0m\u001b[0;34m(\u001b[0m\u001b[0mkey\u001b[0m\u001b[0;34m)\u001b[0m\u001b[0;34m)\u001b[0m\u001b[0;34m\u001b[0m\u001b[0;34m\u001b[0m\u001b[0m\n\u001b[0m\u001b[1;32m   2649\u001b[0m         \u001b[0mindexer\u001b[0m \u001b[0;34m=\u001b[0m \u001b[0mself\u001b[0m\u001b[0;34m.\u001b[0m\u001b[0mget_indexer\u001b[0m\u001b[0;34m(\u001b[0m\u001b[0;34m[\u001b[0m\u001b[0mkey\u001b[0m\u001b[0;34m]\u001b[0m\u001b[0;34m,\u001b[0m \u001b[0mmethod\u001b[0m\u001b[0;34m=\u001b[0m\u001b[0mmethod\u001b[0m\u001b[0;34m,\u001b[0m \u001b[0mtolerance\u001b[0m\u001b[0;34m=\u001b[0m\u001b[0mtolerance\u001b[0m\u001b[0;34m)\u001b[0m\u001b[0;34m\u001b[0m\u001b[0;34m\u001b[0m\u001b[0m\n\u001b[1;32m   2650\u001b[0m         \u001b[0;32mif\u001b[0m \u001b[0mindexer\u001b[0m\u001b[0;34m.\u001b[0m\u001b[0mndim\u001b[0m \u001b[0;34m>\u001b[0m \u001b[0;36m1\u001b[0m \u001b[0;32mor\u001b[0m \u001b[0mindexer\u001b[0m\u001b[0;34m.\u001b[0m\u001b[0msize\u001b[0m \u001b[0;34m>\u001b[0m \u001b[0;36m1\u001b[0m\u001b[0;34m:\u001b[0m\u001b[0;34m\u001b[0m\u001b[0;34m\u001b[0m\u001b[0m\n",
      "\u001b[0;32mpandas\\_libs\\index.pyx\u001b[0m in \u001b[0;36mpandas._libs.index.IndexEngine.get_loc\u001b[0;34m()\u001b[0m\n",
      "\u001b[0;32mpandas\\_libs\\index.pyx\u001b[0m in \u001b[0;36mpandas._libs.index.IndexEngine.get_loc\u001b[0;34m()\u001b[0m\n",
      "\u001b[0;32mpandas\\_libs\\hashtable_class_helper.pxi\u001b[0m in \u001b[0;36mpandas._libs.hashtable.PyObjectHashTable.get_item\u001b[0;34m()\u001b[0m\n",
      "\u001b[0;32mpandas\\_libs\\hashtable_class_helper.pxi\u001b[0m in \u001b[0;36mpandas._libs.hashtable.PyObjectHashTable.get_item\u001b[0;34m()\u001b[0m\n",
      "\u001b[0;31mKeyError\u001b[0m: 'Purpose'"
     ]
    }
   ],
   "source": [
    "sns.set(rc={'figure.figsize':(25,8.27)})\n",
    "sns.barplot(x=df['Purpose'],y=df['Supplier Quote(including GST)'])"
   ]
  },
  {
   "cell_type": "code",
   "execution_count": null,
   "metadata": {},
   "outputs": [],
   "source": [
    "#Create combo chart\n",
    "fig, ax1 = plt.subplots(figsize=(27,10))\n",
    "color = 'tab:green'\n",
    "#bar plot creation\n",
    "ax1.set_title('Purpose vs price', fontsize=16)\n",
    "ax1.set_xlabel('Purpose', fontsize=16)\n",
    "ax1.set_ylabel('Price', fontsize=16)\n",
    "ax1 = sns.barplot(x='Purpose', y='Supplier Quote(including GST)', data = df, palette='summer')\n",
    "ax1.tick_params(axis='y')\n",
    "#specify we want to share the same x-axis\n",
    "ax2 = ax1.twinx()\n",
    "color = 'tab:red'\n",
    "#line plot creation\n",
    "ax2.set_ylabel('Price vs purpose', fontsize=16)\n",
    "ax2 = sns.lineplot(x='Purpose', y='Supplier Quote(including GST)', data = df, sort=False, color=color)\n",
    "ax2.tick_params(axis='y', color=color)\n",
    "#show plot\n",
    "plt.show()"
   ]
  },
  {
   "cell_type": "code",
   "execution_count": null,
   "metadata": {},
   "outputs": [],
   "source": [
    "# By looking at the chart, Tour and sports game have a high impact on price. Then, Seniors Trip, school trip and all others are almost same"
   ]
  },
  {
   "cell_type": "code",
   "execution_count": null,
   "metadata": {},
   "outputs": [],
   "source": [
    "# !pip install pingouin"
   ]
  },
  {
   "cell_type": "code",
   "execution_count": null,
   "metadata": {},
   "outputs": [],
   "source": [
    "import pingouin as pg"
   ]
  },
  {
   "cell_type": "code",
   "execution_count": null,
   "metadata": {},
   "outputs": [],
   "source": [
    "aov = pg.anova(data=df,dv=\"Supplier Quote(including GST)\",between=\"Vehicle class\",detailed=True)\n",
    "aov"
   ]
  },
  {
   "cell_type": "code",
   "execution_count": null,
   "metadata": {},
   "outputs": [],
   "source": [
    "eta_sq_vehicle = aov.SS[0] / (aov.SS[0] + aov.SS[1])\n",
    "eta_sq_vehicle"
   ]
  },
  {
   "cell_type": "code",
   "execution_count": null,
   "metadata": {},
   "outputs": [],
   "source": [
    "aov = pg.anova(data=df,dv=\"Supplier Quote(including GST)\",between=\"Purpose\",detailed=True)\n",
    "aov"
   ]
  },
  {
   "cell_type": "code",
   "execution_count": null,
   "metadata": {},
   "outputs": [],
   "source": [
    "eta_sq_purpose = aov.SS[0] / (aov.SS[0] + aov.SS[1])\n",
    "eta_sq_purpose"
   ]
  },
  {
   "cell_type": "code",
   "execution_count": null,
   "metadata": {},
   "outputs": [],
   "source": [
    "def check_relation_strength(eta_sqrr):\n",
    "    if eta_sqrr < .01:\n",
    "        return \"Negligible\"\n",
    "    elif eta_sqrr <.06:\n",
    "        return \"Small\"\n",
    "    elif eta_sqrr < .14:\n",
    "        return \"Medium\"\n",
    "    else:\n",
    "        return \"Large\""
   ]
  },
  {
   "cell_type": "code",
   "execution_count": null,
   "metadata": {},
   "outputs": [],
   "source": [
    "# For Vehicle \n",
    "check_relation_strength(eta_sq_vehicle)"
   ]
  },
  {
   "cell_type": "code",
   "execution_count": null,
   "metadata": {},
   "outputs": [],
   "source": [
    "# For Purpose \n",
    "check_relation_strength(eta_sq_purpose)"
   ]
  },
  {
   "cell_type": "code",
   "execution_count": null,
   "metadata": {},
   "outputs": [],
   "source": [
    "df['Trip type'].replace({'One Way':0,'Return':1},inplace=True)\n",
    "df['Trip starts before 7 am'].replace({'No':0,'Yes':1},inplace=True)\n",
    "df['Trip ends after 6pm'].replace({'No':0,'Yes':1},inplace=True)"
   ]
  },
  {
   "cell_type": "code",
   "execution_count": null,
   "metadata": {},
   "outputs": [],
   "source": [
    "df.drop(labels=['Total time elapsed(hours)'],axis=1,inplace=True)\n",
    "df"
   ]
  },
  {
   "cell_type": "code",
   "execution_count": null,
   "metadata": {},
   "outputs": [],
   "source": [
    "sns.heatmap(df.corr())"
   ]
  },
  {
   "cell_type": "code",
   "execution_count": null,
   "metadata": {},
   "outputs": [],
   "source": [
    "correlation = df.corr()\n",
    "correlation"
   ]
  },
  {
   "cell_type": "code",
   "execution_count": null,
   "metadata": {},
   "outputs": [],
   "source": [
    "cols = correlation.columns\n",
    "index = 0;\n",
    "\n",
    "for x in correlation['Supplier Quote(including GST)'].tolist():\n",
    "    if(x>=0.4):\n",
    "        print(cols[index])\n",
    "    \n",
    "    elif(x<=-0.4):\n",
    "         print(cols[index])\n",
    "            \n",
    "    index = index + 1\n",
    "    \n",
    "    \n"
   ]
  },
  {
   "cell_type": "code",
   "execution_count": null,
   "metadata": {},
   "outputs": [],
   "source": [
    "df = df[['Purpose','Vehicle class','Distance in kms','Travel time minutes','Supplier Quote(including GST)']]"
   ]
  },
  {
   "cell_type": "code",
   "execution_count": null,
   "metadata": {},
   "outputs": [],
   "source": [
    "def oneHotEncoding_with_names(columnName):\n",
    "    \n",
    "    temp_df = pd.get_dummies(df[columnName],drop_first=True)\n",
    "    for x in temp_df.columns:\n",
    "        temp_df.rename(columns={x:columnName+'_'+str(x)},inplace=True)\n",
    "    \n",
    "    for x in temp_df.columns:\n",
    "        df[x] = temp_df[x]\n",
    "    \n",
    "    df.drop(labels=columnName,axis=1,inplace=True)\n",
    "    return df\n",
    "\n",
    "for y in df.columns:\n",
    "    if(df[y].dtype==object):\n",
    "        oneHotEncoding_with_names(y)\n",
    "        \n",
    "df"
   ]
  },
  {
   "cell_type": "code",
   "execution_count": null,
   "metadata": {},
   "outputs": [],
   "source": [
    "df.corr()"
   ]
  },
  {
   "cell_type": "code",
   "execution_count": null,
   "metadata": {},
   "outputs": [],
   "source": [
    "df = df[[\"Purpose_Sports Game\",\"Vehicle class_Luxury\",\"Distance in kms\",\"Travel time minutes\",\"Purpose_Tour\",\"Supplier Quote(including GST)\"]]\n",
    "features = df.drop(labels=[\"Supplier Quote(including GST)\"],axis=1)\n",
    "features"
   ]
  },
  {
   "cell_type": "code",
   "execution_count": null,
   "metadata": {},
   "outputs": [],
   "source": [
    "target = df[[\"Supplier Quote(including GST)\"]]\n",
    "target"
   ]
  },
  {
   "cell_type": "code",
   "execution_count": null,
   "metadata": {},
   "outputs": [],
   "source": [
    "# from sklearn.preprocessing import StandardScaler\n",
    "# std_scaler = StandardScaler()\n"
   ]
  },
  {
   "cell_type": "code",
   "execution_count": null,
   "metadata": {},
   "outputs": [],
   "source": [
    "# features_scaled = std_scaler.fit_transform(features)\n",
    "# features_scaled"
   ]
  },
  {
   "cell_type": "code",
   "execution_count": null,
   "metadata": {},
   "outputs": [],
   "source": [
    "from sklearn.model_selection import cross_validate\n",
    "from sklearn.linear_model import LinearRegression\n",
    "reg = LinearRegression(normalize=True)\n",
    "model = cross_validate(reg,features,target,cv=170,return_estimator=True,scoring ='r2')\n",
    "model\n",
    "\n"
   ]
  },
  {
   "cell_type": "code",
   "execution_count": null,
   "metadata": {},
   "outputs": [],
   "source": [
    "val = np.amax(model['test_score'])\n",
    "val"
   ]
  },
  {
   "cell_type": "code",
   "execution_count": null,
   "metadata": {},
   "outputs": [],
   "source": [
    "index = np.where(model['test_score']==val)\n",
    "index"
   ]
  },
  {
   "cell_type": "code",
   "execution_count": null,
   "metadata": {},
   "outputs": [],
   "source": [
    "final_model = model['estimator'][index[0][0]]\n",
    "final_model"
   ]
  },
  {
   "cell_type": "code",
   "execution_count": null,
   "metadata": {},
   "outputs": [],
   "source": [
    "import pickle\n",
    "with open('quote_predictor_model.pkl', 'wb') as fid:\n",
    "    pickle.dump(final_model, fid)"
   ]
  },
  {
   "cell_type": "markdown",
   "metadata": {},
   "source": [
    "  # HOW TO USE MODEL"
   ]
  },
  {
   "cell_type": "code",
   "execution_count": null,
   "metadata": {},
   "outputs": [],
   "source": [
    "loaded_model = pickle.load(open('quote_predictor_model.pkl', 'rb'))\n",
    "#params = [[Purpose_Sports Game , Vehicle class_Luxury, Distance in kms, Travel time minutes, Purpose_Tour]]\n",
    "prediction = loaded_model.predict([[1,0,15,25,0]])\n",
    "prediction = round(prediction[0][0],0)\n",
    "prediction\n"
   ]
  },
  {
   "cell_type": "code",
   "execution_count": null,
   "metadata": {},
   "outputs": [],
   "source": []
  },
  {
   "cell_type": "code",
   "execution_count": null,
   "metadata": {},
   "outputs": [],
   "source": []
  }
 ],
 "metadata": {
  "kernelspec": {
   "display_name": "Python 3",
   "language": "python",
   "name": "python3"
  },
  "language_info": {
   "codemirror_mode": {
    "name": "ipython",
    "version": 3
   },
   "file_extension": ".py",
   "mimetype": "text/x-python",
   "name": "python",
   "nbconvert_exporter": "python",
   "pygments_lexer": "ipython3",
   "version": "3.7.2"
  }
 },
 "nbformat": 4,
 "nbformat_minor": 1
}
